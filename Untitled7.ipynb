{
  "nbformat": 4,
  "nbformat_minor": 0,
  "metadata": {
    "colab": {
      "provenance": [],
      "authorship_tag": "ABX9TyPuk9ERWWxMLPbq1ZjrLDtL",
      "include_colab_link": true
    },
    "kernelspec": {
      "name": "python3",
      "display_name": "Python 3"
    },
    "language_info": {
      "name": "python"
    }
  },
  "cells": [
    {
      "cell_type": "markdown",
      "metadata": {
        "id": "view-in-github",
        "colab_type": "text"
      },
      "source": [
        "<a href=\"https://colab.research.google.com/github/TrungDat2112/GR1/blob/main/Untitled7.ipynb\" target=\"_parent\"><img src=\"https://colab.research.google.com/assets/colab-badge.svg\" alt=\"Open In Colab\"/></a>"
      ]
    },
    {
      "cell_type": "code",
      "execution_count": null,
      "metadata": {
        "id": "dSpk23sX2UZ0"
      },
      "outputs": [],
      "source": [
        "import numpy as np\n",
        "from sklearn.metrics import calinski_harabasz_score\n",
        "from sklearn.metrics import davies_bouldin_score\n",
        "from scipy.spatial.distance import pdist, squareform\n",
        "from sklearn.metrics import silhouette_samples, silhouette_score\n",
        "from sklearn.metrics import pairwise_distances\n",
        "from itertools import combinations\n",
        "from sklearn.metrics import adjusted_rand_score\n",
        "from sklearn.datasets import make_blobs"
      ]
    },
    {
      "cell_type": "code",
      "source": [
        "def initialize_membership_matrix(n_samples, n_clusters):\n",
        "    \"\"\"Initialize the membership matrix with random values.\"\"\"\n",
        "    U = np.random.dirichlet(np.ones(n_clusters), size=n_samples)\n",
        "    return U"
      ],
      "metadata": {
        "id": "3mEMLmOp9u0V"
      },
      "execution_count": null,
      "outputs": []
    },
    {
      "cell_type": "code",
      "source": [
        "def calculate_cluster_centers(X, U, m):\n",
        "    \"\"\"Calculate the cluster centers.\"\"\"\n",
        "    um = U ** m\n",
        "    centers = um.T @ X / um.sum(axis=0)[:, None]\n",
        "    return centers"
      ],
      "metadata": {
        "id": "gr27RpFJ-9La"
      },
      "execution_count": null,
      "outputs": []
    },
    {
      "cell_type": "code",
      "source": [
        "def update_membership_matrix(X, centers, m, A=None):\n",
        "    \"\"\"Update the membership matrix.\n",
        "    Note: Distance calculations assume Euclidean Norm (A=I) by default.\n",
        "    \"\"\"\n",
        "    n_samples = X.shape[0]\n",
        "    n_clusters = centers.shape[0]\n",
        "    p = 2 / (m - 1)\n",
        "    distances = np.zeros((n_samples, n_clusters))\n",
        "\n",
        "    for i in range(n_clusters):\n",
        "        # Euclidean distance is calculated here, assuming A=I.\n",
        "        distances[:, i] = np.linalg.norm(X - centers[i], axis=1, ord=2)\n",
        "\n",
        "    U = np.zeros((n_samples, n_clusters))\n",
        "    for i in range(n_clusters):\n",
        "        for j in range(n_samples):\n",
        "            denominator = np.sum((distances[j, i] / distances[j, :]) ** p)\n",
        "            U[j, i] = 1 / denominator\n",
        "\n",
        "    return U"
      ],
      "metadata": {
        "id": "i5np7dJr97Gn"
      },
      "execution_count": null,
      "outputs": []
    },
    {
      "cell_type": "code",
      "source": [
        "def calculate_jm(X, U, centers, m=2):\n",
        "    n_samples, n_features = X.shape\n",
        "    n_clusters = centers.shape[0]\n",
        "    Jm = 0\n",
        "    for i in range(n_clusters):\n",
        "        diff = X - centers[i]\n",
        "        dist_squared = np.sum(diff ** 2, axis=1)\n",
        "        Jm += np.sum((U[:, i] ** m) * dist_squared)\n",
        "    return Jm\n"
      ],
      "metadata": {
        "id": "TKJ_ZlZi-ekB"
      },
      "execution_count": null,
      "outputs": []
    },
    {
      "cell_type": "code",
      "source": [
        "def calculate_fc(U):\n",
        "    Fc = np.sum(U ** 2) / U.shape[0]\n",
        "    return Fc\n"
      ],
      "metadata": {
        "id": "W9CFEKzk-jnM"
      },
      "execution_count": null,
      "outputs": []
    },
    {
      "cell_type": "code",
      "source": [
        "def calculate_hc(U):\n",
        "    with np.errstate(divide='ignore', invalid='ignore'):\n",
        "        Hc = -np.sum(U * np.log(U)) / U.shape[0]\n",
        "        Hc = np.nan_to_num(Hc)  # Replace nan with 0 and inf with large finite numbers\n",
        "    return Hc\n"
      ],
      "metadata": {
        "id": "6XKztMUa-mAA"
      },
      "execution_count": null,
      "outputs": []
    },
    {
      "cell_type": "code",
      "source": [
        "def fcm(X, n_clusters=3, m=2, epsilon=0.01, max_iter=100, A=None):\n",
        "    \"\"\"Implement Fuzzy c-Means clustering.\n",
        "    Note: The function assumes Euclidean Norm (A=I) for distance calculations.\n",
        "    \"\"\"\n",
        "    n_samples = X.shape[0]\n",
        "    # Initialize membership matrix\n",
        "    U = initialize_membership_matrix(n_samples, n_clusters)\n",
        "    # Loop control\n",
        "    for iteration in range(max_iter):\n",
        "        U_old = U.copy()\n",
        "        # Calculate cluster centers\n",
        "        centers = calculate_cluster_centers(X, U, m)\n",
        "        # Update membership matrix\n",
        "        U = update_membership_matrix(X, centers, m)\n",
        "        # Check for convergence\n",
        "        if np.linalg.norm(U - U_old) < epsilon:\n",
        "            break\n",
        "\n",
        "    return U, centers"
      ],
      "metadata": {
        "id": "1dRRlT8D-ATE"
      },
      "execution_count": null,
      "outputs": []
    },
    {
      "cell_type": "code",
      "source": [
        "X, _ = make_blobs(n_samples=30, centers=3, cluster_std=0.60, random_state=0)\n",
        "    # Run FCM\n",
        "U, centers = fcm(X)\n",
        "    # Assign clusters\n",
        "cluster_labels = np.argmax(U, axis=1)\n",
        "m = 2\n",
        "Jm = calculate_jm(X, U, centers, m)\n",
        "Fc = calculate_fc(U)\n",
        "Hc = calculate_hc(U)\n",
        "One_minus_Fc = 1 - Fc\n",
        "print(\"Cluster centers:\\n\", centers)\n",
        "print(\"Assigned clusters for the first 10 samples:\\n\", cluster_labels[:10])\n",
        "print(\"Jm:\\n\", Jm)\n",
        "print(\"Fc:\\n\", Fc)\n",
        "print(\"Hc:\\n\", Hc)\n",
        "print(\"One_minus_Fc:\\n\", One_minus_Fc)"
      ],
      "metadata": {
        "colab": {
          "base_uri": "https://localhost:8080/"
        },
        "id": "k4LOm-c3-DT2",
        "outputId": "e37e2b09-7343-4087-86b0-b5a19efded47"
      },
      "execution_count": null,
      "outputs": [
        {
          "output_type": "stream",
          "name": "stdout",
          "text": [
            "Cluster centers:\n",
            " [[ 1.95079715  0.86198228]\n",
            " [-1.85837852  2.81438471]\n",
            " [ 1.35878406  4.22980723]]\n",
            "Assigned clusters for the first 10 samples:\n",
            " [2 1 1 1 0 2 0 1 0 1]\n",
            "Jm:\n",
            " 14.311695426011044\n",
            "Fc:\n",
            " 0.8687358982783712\n",
            "Hc:\n",
            " 0.26525725840063574\n",
            "One_minus_Fc:\n",
            " 0.13126410172162883\n"
          ]
        }
      ]
    },
    {
      "cell_type": "code",
      "source": [
        "vrc_score = calinski_harabasz_score(X, cluster_labels)\n",
        "print(f\"The Calinski-Harabasz score is: {vrc_score}\")"
      ],
      "metadata": {
        "colab": {
          "base_uri": "https://localhost:8080/"
        },
        "id": "ErHe7GcS_xTg",
        "outputId": "59653eb3-4ba1-4d29-ee2f-f7a0f99a8462"
      },
      "execution_count": null,
      "outputs": [
        {
          "output_type": "stream",
          "name": "stdout",
          "text": [
            "The Calinski-Harabasz score is: 101.38588913360324\n"
          ]
        }
      ]
    },
    {
      "cell_type": "code",
      "source": [
        "db_score = davies_bouldin_score(X, cluster_labels)\n",
        "print(f\"The Davies-Bouldin score is: {db_score}\")"
      ],
      "metadata": {
        "colab": {
          "base_uri": "https://localhost:8080/"
        },
        "id": "M4nuUbRiAbBc",
        "outputId": "00161434-0909-4f96-d193-cbe9c1f46f71"
      },
      "execution_count": null,
      "outputs": [
        {
          "output_type": "stream",
          "name": "stdout",
          "text": [
            "The Davies-Bouldin score is: 0.3942229430688921\n"
          ]
        }
      ]
    },
    {
      "cell_type": "code",
      "source": [
        "def dunn_index(X, labels):\n",
        "    # Calculate pairwise distances between points\n",
        "    distances = squareform(pdist(X, 'euclidean'))\n",
        "    n_clusters = len(np.unique(labels))\n",
        "\n",
        "    # Initialize diameters to zero\n",
        "    intra_cluster_distances = np.zeros(n_clusters)\n",
        "\n",
        "    # Initialize inter-cluster distances to a large number\n",
        "    inter_cluster_distances = np.full((n_clusters, n_clusters), np.inf)\n",
        "\n",
        "    # Calculate intra-cluster distances (diameters)\n",
        "    for i in range(n_clusters):\n",
        "        cluster_i = X[labels == i]\n",
        "        if cluster_i.size:\n",
        "            intra_cluster_distances[i] = np.max(pdist(cluster_i, 'euclidean'))\n",
        "\n",
        "    # Calculate inter-cluster distances\n",
        "    for i in range(n_clusters):\n",
        "        for j in range(i + 1, n_clusters):\n",
        "            # Filter distances between different clusters\n",
        "            inter_distances = distances[np.ix_(labels == i, labels == j)]\n",
        "            if inter_distances.size:\n",
        "                inter_cluster_distances[i, j] = np.min(inter_distances)\n",
        "\n",
        "    # Calculate Dunn's index\n",
        "    min_inter = np.min(inter_cluster_distances[inter_cluster_distances != np.inf])\n",
        "    max_intra = np.max(intra_cluster_distances)\n",
        "    dunn_index = min_inter / max_intra if max_intra > 0 else 0\n",
        "\n",
        "    return dunn_index\n",
        "\n",
        "# Usage\n",
        "dn_index = dunn_index(X, cluster_labels)\n",
        "print(f\"Dunn's index is: {dn_index}\")"
      ],
      "metadata": {
        "colab": {
          "base_uri": "https://localhost:8080/"
        },
        "id": "fGEylWD6AghT",
        "outputId": "d9d7fa5c-7532-40a0-b548-8b66c8a28be6"
      },
      "execution_count": null,
      "outputs": [
        {
          "output_type": "stream",
          "name": "stdout",
          "text": [
            "Dunn's index is: 0.5472775106669733\n"
          ]
        }
      ]
    },
    {
      "cell_type": "code",
      "source": [
        "silhouette_vals = silhouette_samples(X, cluster_labels)\n",
        "print(f\"Silhouette values for each sample: {silhouette_vals}\")\n",
        "\n",
        "# The overall average silhouette score\n",
        "avg_silhouette = silhouette_score(X, cluster_labels)\n",
        "print(f\"Average silhouette score: {avg_silhouette}\")"
      ],
      "metadata": {
        "colab": {
          "base_uri": "https://localhost:8080/"
        },
        "id": "YIchPom3Asdp",
        "outputId": "dcc0b033-af7d-4ff4-fb88-3d211c814f7f"
      },
      "execution_count": null,
      "outputs": [
        {
          "output_type": "stream",
          "name": "stdout",
          "text": [
            "Silhouette values for each sample: [0.11200412 0.7652429  0.85049362 0.79281407 0.73314457 0.71347862\n",
            " 0.67066401 0.81411148 0.76752415 0.85008069 0.79795178 0.77281232\n",
            " 0.76576647 0.56268417 0.68992671 0.77000608 0.77366362 0.67489959\n",
            " 0.74274593 0.71066123 0.49030441 0.76864782 0.7801163  0.72604473\n",
            " 0.39394492 0.75466999 0.24521882 0.69992328 0.75943486 0.78491007]\n",
            "Average silhouette score: 0.6911297108689763\n"
          ]
        }
      ]
    },
    {
      "cell_type": "code",
      "source": [
        "def alternative_silhouette_samples(X, labels, epsilon=1e-6):\n",
        "    distances = pairwise_distances(X)\n",
        "    unique_labels = np.unique(labels)\n",
        "    silhouette_samples = np.zeros(X.shape[0])\n",
        "\n",
        "    # Compute a_pj and b_pj for each sample\n",
        "    for i in range(X.shape[0]):\n",
        "        # Distances from the i-th sample to all other points in the same cluster\n",
        "        same_cluster = (labels == labels[i])\n",
        "        a_pj = np.mean(distances[i, same_cluster])\n",
        "\n",
        "        # Find the smallest mean distance to all points in any other cluster\n",
        "        min_distance = np.inf\n",
        "        for label in unique_labels:\n",
        "            if label != labels[i]:\n",
        "                other_cluster = (labels == label)\n",
        "                distance_to_other_cluster = np.mean(distances[i, other_cluster])\n",
        "                if distance_to_other_cluster < min_distance:\n",
        "                    min_distance = distance_to_other_cluster\n",
        "        b_pj = min_distance\n",
        "\n",
        "        # Calculate the alternative silhouette value for sample i\n",
        "        silhouette_samples[i] = (b_pj - a_pj) / (a_pj + epsilon)\n",
        "\n",
        "    return silhouette_samples\n",
        "\n",
        "# Compute the alternative silhouette samples\n",
        "epsilon = 1e-6\n",
        "alt_silhouette_vals = alternative_silhouette_samples(X, cluster_labels, epsilon)\n",
        "avg_alt_silhouette = np.mean(alt_silhouette_vals)\n",
        "\n",
        "print(f\"Alternative silhouette values for each sample: {alt_silhouette_vals}\")\n",
        "print(f\"Average alternative silhouette score: {avg_alt_silhouette}\")"
      ],
      "metadata": {
        "colab": {
          "base_uri": "https://localhost:8080/"
        },
        "id": "Ys2kGruDAxQM",
        "outputId": "bec3625d-9e14-476e-d787-45905313dbaf"
      },
      "execution_count": null,
      "outputs": [
        {
          "output_type": "stream",
          "name": "stdout",
          "text": [
            "Alternative silhouette values for each sample: [0.25125693 3.7330188  6.43185085 4.36286343 3.16371532 2.87793103\n",
            " 2.37379023 4.97728998 3.77946407 6.41138098 4.49923124 3.89071316\n",
            " 3.74359816 1.54075085 2.58337911 3.83103997 3.90910887 2.41774532\n",
            " 3.31911621 2.84016995 1.17994958 3.80267777 4.05317056 3.05580842\n",
            " 0.83334946 3.5290421  0.47209671 2.70275449 3.61874901 4.16579186]\n",
            "Average alternative silhouette score: 3.2783601471823207\n"
          ]
        }
      ]
    },
    {
      "cell_type": "code",
      "source": [
        "def calculate_centroids(X, labels, k):\n",
        "    centroids = np.array([X[labels == i].mean(axis=0) for i in range(k)])\n",
        "    return centroids\n",
        "centroids = calculate_centroids(X, cluster_labels, k=np.unique(cluster_labels).size)\n",
        "def alternative_simplified_silhouette_samples(X, labels, centroids, epsilon=1e-5):\n",
        "    distances_to_centroids = pairwise_distances(X, centroids)\n",
        "    intra_distances = distances_to_centroids[np.arange(len(labels)), labels]\n",
        "\n",
        "    # Avoid the use of intra-cluster distances in finding the nearest other cluster\n",
        "    inter_distances = np.where(\n",
        "        (np.arange(len(centroids)) == labels[:, None]),\n",
        "        np.inf,\n",
        "        distances_to_centroids\n",
        "    )\n",
        "    nearest_other_distance = np.min(inter_distances, axis=1)\n",
        "\n",
        "    silhouette_values = (nearest_other_distance - intra_distances) / (intra_distances + epsilon)\n",
        "\n",
        "    return silhouette_values\n",
        "\n",
        "# Computing the ASSWC for each sample\n",
        "asswc_values = alternative_simplified_silhouette_samples(X, cluster_labels, centroids)\n",
        "\n",
        "# Computing the mean ASSWC across all samples for the overall score\n",
        "mean_asswc = np.mean(asswc_values)\n",
        "\n",
        "print(f\"Alternative Simplified Silhouette values for each sample: {asswc_values}\")\n",
        "print(f\"Mean Alternative Simplified Silhouette Score: {mean_asswc}\")\n"
      ],
      "metadata": {
        "colab": {
          "base_uri": "https://localhost:8080/"
        },
        "id": "xDhR-QqxBF87",
        "outputId": "4c71932c-7024-4f32-977f-cae4b1cce4f8"
      },
      "execution_count": null,
      "outputs": [
        {
          "output_type": "stream",
          "name": "stdout",
          "text": [
            "Alternative Simplified Silhouette values for each sample: [ 0.26263474  4.64389576 42.44528884  5.50322288 10.98472613  4.1419461\n",
            "  2.50267357  7.57100119  9.0466055  44.62577197  5.74242766  5.38927099\n",
            "  4.71089546  1.82964413  4.96460829  9.88967548 12.92549339  3.15018514\n",
            "  3.48803987  5.07270907  1.28572939 15.61770277 14.83045552  6.67211906\n",
            "  0.82594559 31.35453485  0.53925642  3.08146655  4.07807867 15.76186237]\n",
            "Mean Alternative Simplified Silhouette Score: 9.43126224537167\n"
          ]
        }
      ]
    },
    {
      "cell_type": "code",
      "source": [
        "from scipy.spatial.distance import cdist\n",
        "def pbm_index(X, labels):\n",
        "    k = len(np.unique(labels))\n",
        "    n_samples = X.shape[0]\n",
        "\n",
        "    # Compute the grand mean of the data\n",
        "    grand_mean = np.mean(X, axis=0)\n",
        "\n",
        "    # Compute E1\n",
        "    E1 = np.sum(np.linalg.norm(X - grand_mean, axis=1))\n",
        "\n",
        "    # Compute Ek\n",
        "    centroids = calculate_centroids(X, labels, k)\n",
        "    Ek = sum(np.linalg.norm(X[labels == i] - centroids[i], axis=1).sum() for i in range(k))\n",
        "\n",
        "    # Compute Dk\n",
        "    Dk = np.max(cdist(centroids, centroids, 'euclidean'))\n",
        "\n",
        "    # Compute PBM index\n",
        "    PBM = ((1/k) * (E1/Ek) * (1/Dk))**2\n",
        "\n",
        "    return PBM\n",
        "\n",
        "# Example usage:\n",
        "pbm_score = pbm_index(X, cluster_labels)\n",
        "print(f\"The PBM index is: {pbm_score}\")"
      ],
      "metadata": {
        "colab": {
          "base_uri": "https://localhost:8080/"
        },
        "id": "K6QDW2jfBT4v",
        "outputId": "8ecac915-748c-45a1-94c9-340937b77aea"
      },
      "execution_count": null,
      "outputs": [
        {
          "output_type": "stream",
          "name": "stdout",
          "text": [
            "The PBM index is: 0.07538192992945088\n"
          ]
        }
      ]
    },
    {
      "cell_type": "code",
      "source": [
        "def point_biserial(X, labels):\n",
        "    distances = np.array([np.linalg.norm(X[i] - X[j]) for i, j in combinations(range(len(X)), 2)])\n",
        "    t = len(distances)\n",
        "    s_d = np.std(distances)\n",
        "\n",
        "    intra_distances = [dist for (i, j), dist in zip(combinations(range(len(X)), 2), distances)\n",
        "                       if labels[i] == labels[j]]\n",
        "    inter_distances = [dist for (i, j), dist in zip(combinations(range(len(X)), 2), distances)\n",
        "                       if labels[i] != labels[j]]\n",
        "\n",
        "    d_u = np.mean(intra_distances)\n",
        "    d_b = np.mean(inter_distances)\n",
        "    w_u = len(intra_distances)\n",
        "    b_d = len(inter_distances)\n",
        "\n",
        "    PB = ((d_b - d_u) / s_d) * (w_u * b_d / t**2)\n",
        "\n",
        "    return PB\n",
        "\n",
        "# Example usage:\n",
        "pb_value = point_biserial(X, cluster_labels)\n",
        "print(f\"The Point-Biserial (PB) value is: {pb_value}\")"
      ],
      "metadata": {
        "colab": {
          "base_uri": "https://localhost:8080/"
        },
        "id": "bonaLhpADUUR",
        "outputId": "b2c5062d-89de-48db-e677-641b6291158b"
      },
      "execution_count": null,
      "outputs": [
        {
          "output_type": "stream",
          "name": "stdout",
          "text": [
            "The Point-Biserial (PB) value is: 0.402113068864015\n"
          ]
        }
      ]
    },
    {
      "cell_type": "code",
      "source": [
        "def calculate_within_cluster_cov_matrix(X, labels):\n",
        "    k = len(np.unique(labels))\n",
        "    n_features = X.shape[1]\n",
        "    overall_mean = np.mean(X, axis=0)\n",
        "\n",
        "    # Compute the within-cluster covariance matrix W\n",
        "    W = np.zeros((n_features, n_features))\n",
        "    for label in np.unique(labels):\n",
        "        cluster_points = X[labels == label]\n",
        "        cluster_mean = np.mean(cluster_points, axis=0)\n",
        "        W += np.cov(cluster_points, rowvar=False) * (cluster_points.shape[0] - 1)\n",
        "\n",
        "    W /= X.shape[0] - k\n",
        "    return W"
      ],
      "metadata": {
        "id": "ivES9QfmGU8V"
      },
      "execution_count": null,
      "outputs": []
    },
    {
      "cell_type": "code",
      "source": [
        "def cvk_criterion(X, labels):\n",
        "    k = len(np.unique(labels))\n",
        "    n = X.shape[1]\n",
        "    grand_mean = np.mean(X, axis=0)\n",
        "    cvk = 0\n",
        "\n",
        "    for q in range(n):\n",
        "        # Calculate SSTq for attribute q\n",
        "        SSTq = np.sum((X[:, q] - grand_mean[q]) ** 2)\n",
        "\n",
        "        # Calculate SSWq for attribute q\n",
        "        SSWq = sum(np.sum((X[labels == l, q] - np.mean(X[labels == l, q])) ** 2) for l in range(k))\n",
        "\n",
        "        # Calculate SSBq for attribute q\n",
        "        SSBq = SSTq - SSWq\n",
        "\n",
        "        # Add the ratio for attribute q to cvk\n",
        "        cvk += SSBq / SSTq\n",
        "\n",
        "    return cvk / np.sqrt(n)\n",
        "\n",
        "# Example usage\n",
        "cvk_score = cvk_criterion(X, cluster_labels)\n",
        "print(f\"The C/Vk criterion score is: {cvk_score}\")"
      ],
      "metadata": {
        "colab": {
          "base_uri": "https://localhost:8080/"
        },
        "id": "lMi0HvHcDb0A",
        "outputId": "f6a5ab64-506f-40f7-dbc7-24e5d6d03ed6"
      },
      "execution_count": null,
      "outputs": [
        {
          "output_type": "stream",
          "name": "stdout",
          "text": [
            "The C/Vk criterion score is: 1.2429761211224821\n"
          ]
        }
      ]
    },
    {
      "cell_type": "code",
      "source": [
        "W = calculate_within_cluster_cov_matrix(X, cluster_labels)\n",
        "V1 = np.trace(W)\n",
        "\n",
        "print(f\"The trace of the within-group covariance matrix W is: {V1}\")"
      ],
      "metadata": {
        "colab": {
          "base_uri": "https://localhost:8080/"
        },
        "id": "U8lphuTuEJ5Z",
        "outputId": "9784f188-3bdb-43a7-8e7c-2f0e8127f3ee"
      },
      "execution_count": null,
      "outputs": [
        {
          "output_type": "stream",
          "name": "stdout",
          "text": [
            "The trace of the within-group covariance matrix W is: 0.6872462604282079\n"
          ]
        }
      ]
    },
    {
      "cell_type": "code",
      "source": [
        "def calculate_within_cluster_cov(X, labels):\n",
        "    k = len(np.unique(labels))\n",
        "    cluster_covariances = []\n",
        "    for l in range(k):\n",
        "        cluster_points = X[labels == l]\n",
        "        cluster_mean = np.mean(cluster_points, axis=0)\n",
        "        covariance = np.cov(cluster_points, rowvar=False, bias=True)  # Using bias=True for sample covariance\n",
        "        cluster_covariances.append(covariance)\n",
        "    return cluster_covariances\n",
        "\n",
        "def trace_CovW(X, labels):\n",
        "    cluster_covariances = calculate_within_cluster_cov(X, labels)\n",
        "    pooled_covariance = np.mean(cluster_covariances, axis=0)\n",
        "    trace_pooled_covariance = np.trace(pooled_covariance)\n",
        "    return trace_pooled_covariance\n",
        "\n",
        "# Example usage\n",
        "V2 = trace_CovW(X, cluster_labels)\n",
        "print(f\"The trace of the pooled covariance matrix (Trace(CovW)) is: {V2}\")"
      ],
      "metadata": {
        "colab": {
          "base_uri": "https://localhost:8080/"
        },
        "id": "Xn4OH4AiEPZA",
        "outputId": "7ba1381c-3e2c-4c9e-d86a-4e821b7ec495"
      },
      "execution_count": null,
      "outputs": [
        {
          "output_type": "stream",
          "name": "stdout",
          "text": [
            "The trace of the pooled covariance matrix (Trace(CovW)) is: 0.6185216343853872\n"
          ]
        }
      ]
    },
    {
      "cell_type": "code",
      "source": [
        "def between_cluster_dispersion_matrix(X, labels):\n",
        "    k = len(np.unique(labels))\n",
        "    n_features = X.shape[1]\n",
        "    overall_mean = np.mean(X, axis=0)\n",
        "    B = np.zeros((n_features, n_features))\n",
        "    for label in np.unique(labels):\n",
        "        cluster_points = X[labels == label]\n",
        "        cluster_size = cluster_points.shape[0]\n",
        "        cluster_mean = np.mean(cluster_points, axis=0)\n",
        "        mean_diff = cluster_mean - overall_mean\n",
        "        B += cluster_size * np.outer(mean_diff, mean_diff)\n",
        "\n",
        "    B /= k - 1\n",
        "    return B"
      ],
      "metadata": {
        "id": "e0FATNhJHr3h"
      },
      "execution_count": null,
      "outputs": []
    },
    {
      "cell_type": "code",
      "source": [
        "def calculate_w_inv_b(X, labels):\n",
        "  W = calculate_within_cluster_cov_matrix(X, cluster_labels)\n",
        "  B = between_cluster_dispersion_matrix(X, cluster_labels)\n",
        "  W_inv = np.linalg.inv(W)\n",
        "  V3 = np.trace(np.dot(W_inv, B))\n",
        "\n",
        "  return V3\n",
        "\n",
        "# Example usage:\n",
        "V3 = calculate_w_inv_b(X, cluster_labels)\n",
        "print(f\"The Trace(W^(-1)B) criterion value is: {V3}\")"
      ],
      "metadata": {
        "colab": {
          "base_uri": "https://localhost:8080/"
        },
        "id": "hIkH0jTRIHkB",
        "outputId": "1619afad-12fc-45e3-ab90-d2a631d41463"
      },
      "execution_count": null,
      "outputs": [
        {
          "output_type": "stream",
          "name": "stdout",
          "text": [
            "The Trace(W^(-1)B) criterion value is: 200.19364636169195\n"
          ]
        }
      ]
    },
    {
      "cell_type": "code",
      "source": [
        "def calculate_t_w_determinants(X, labels):\n",
        "    k = len(np.unique(labels))\n",
        "    n_features = X.shape[1]\n",
        "    B = between_cluster_dispersion_matrix(X, cluster_labels)\n",
        "    T = W + B\n",
        "\n",
        "    # Calculate determinants\n",
        "    determinant_W = np.linalg.det(W)\n",
        "    determinant_T = np.linalg.det(T)\n",
        "\n",
        "    return determinant_T, determinant_W\n",
        "\n",
        "def determinant_ratio_criterion(X, labels):\n",
        "    determinant_T, determinant_W = calculate_t_w_determinants(X, labels)\n",
        "    V4 = abs(determinant_T) / abs(determinant_W)\n",
        "    return V4\n",
        "\n",
        "# Example usage:\n",
        "V4 = determinant_ratio_criterion(X, cluster_labels)\n",
        "print(f\"The |T|/|W| criterion value is: {V4}\")"
      ],
      "metadata": {
        "colab": {
          "base_uri": "https://localhost:8080/"
        },
        "id": "MTwvxhbJIfWr",
        "outputId": "b4017af1-9d1f-40a3-d882-86a1f220eed7"
      },
      "execution_count": null,
      "outputs": [
        {
          "output_type": "stream",
          "name": "stdout",
          "text": [
            "The |T|/|W| criterion value is: 9605.899095038092\n"
          ]
        }
      ]
    },
    {
      "cell_type": "code",
      "source": [
        "def nlog_determinant_ratio_criterion(X, labels):\n",
        "    N = X.shape[0]\n",
        "    determinant_T, determinant_W = calculate_t_w_determinants(X, labels)\n",
        "    ratio = abs(determinant_T) / abs(determinant_W)\n",
        "    V5 = N * np.log10(ratio)\n",
        "    return V5\n",
        "\n",
        "# Example usage:\n",
        "V5 = nlog_determinant_ratio_criterion(X, cluster_labels)\n",
        "print(f\"The Nlog(|T|/|W|) criterion value is: {V5}\")\n"
      ],
      "metadata": {
        "colab": {
          "base_uri": "https://localhost:8080/"
        },
        "id": "SvHuHX71Iuxq",
        "outputId": "8011803c-bd63-492c-e005-984a8fa53006"
      },
      "execution_count": null,
      "outputs": [
        {
          "output_type": "stream",
          "name": "stdout",
          "text": [
            "The Nlog(|T|/|W|) criterion value is: 119.4761406086938\n"
          ]
        }
      ]
    },
    {
      "cell_type": "code",
      "source": [
        "def k_squared_W(X, labels):\n",
        "    k = len(np.unique(labels))  # Number of clusters\n",
        "    W = calculate_within_cluster_cov_matrix(X, labels)  # Assuming a function that calculates W\n",
        "    determinant_W = np.linalg.det(W)\n",
        "    V6 = k**2 * abs(determinant_W)\n",
        "    return V6\n",
        "\n",
        "# Example usage:\n",
        "V6 = k_squared_W(X, cluster_labels)\n",
        "print(f\"The k^2|W| criterion value is: {V6}\")"
      ],
      "metadata": {
        "colab": {
          "base_uri": "https://localhost:8080/"
        },
        "id": "Gk0RF36DIz5-",
        "outputId": "f48f2799-cb31-4ed3-d7e8-ccf2ae514904"
      },
      "execution_count": null,
      "outputs": [
        {
          "output_type": "stream",
          "name": "stdout",
          "text": [
            "The k^2|W| criterion value is: 1.0583861652986302\n"
          ]
        }
      ]
    },
    {
      "cell_type": "code",
      "source": [
        "def log_ssb_ssw(X, labels):\n",
        "    K = len(np.unique(labels))\n",
        "    centroids = [X[labels == k].mean(axis=0) for k in range(K)]\n",
        "    SSW = sum(np.sum((X[labels == k] - centroids[k])**2) for k in range(K))\n",
        "\n",
        "    SSB = sum(\n",
        "        1/(len(X[labels == k]) + len(X[labels == m])) * np.linalg.norm(centroids[k] - centroids[m])**2\n",
        "        for k in range(K-1) for m in range(k+1, K)\n",
        "    )\n",
        "\n",
        "    return np.log10(SSB / SSW) if SSW != 0 else float('inf')\n",
        "\n",
        "# Example usage:\n",
        "V7 = log_ssb_ssw(X, cluster_labels)\n",
        "print(f\"The log(SSB/SSW) criterion value is: {V7}\")"
      ],
      "metadata": {
        "colab": {
          "base_uri": "https://localhost:8080/"
        },
        "id": "WfjOWbELI4hr",
        "outputId": "e75728c8-8f07-41c0-f03b-553899650728"
      },
      "execution_count": null,
      "outputs": [
        {
          "output_type": "stream",
          "name": "stdout",
          "text": [
            "The log(SSB/SSW) criterion value is: -0.9482649952492754\n"
          ]
        }
      ]
    },
    {
      "cell_type": "code",
      "source": [
        "def ball_hall(X, labels):\n",
        "    k = len(np.unique(labels))\n",
        "    N = X.shape[0]\n",
        "    total_sum_of_distances = 0\n",
        "\n",
        "    for l in range(k):\n",
        "        cluster_points = X[labels == l]\n",
        "        if cluster_points.size > 0:\n",
        "            centroid = np.mean(cluster_points, axis=0)\n",
        "            sum_of_distances = np.sum(np.linalg.norm(cluster_points - centroid, axis=1))\n",
        "            total_sum_of_distances += sum_of_distances\n",
        "\n",
        "    V8 = total_sum_of_distances / N\n",
        "    return V8\n",
        "\n",
        "# Example usage:\n",
        "V8 = ball_hall(X, cluster_labels)\n",
        "print(f\"The Ball-Hall criterion value is: {V8}\")"
      ],
      "metadata": {
        "colab": {
          "base_uri": "https://localhost:8080/"
        },
        "id": "BBLTfUqRI9Gi",
        "outputId": "f1c7770d-2898-4709-d853-c5c3aad7e43d"
      },
      "execution_count": null,
      "outputs": [
        {
          "output_type": "stream",
          "name": "stdout",
          "text": [
            "The Ball-Hall criterion value is: 0.6414653075394271\n"
          ]
        }
      ]
    },
    {
      "cell_type": "code",
      "source": [
        "def mcclain_rao(X, labels):\n",
        "    k = len(np.unique(labels))\n",
        "    N = len(X)\n",
        "    N_l = np.array([np.sum(labels == l) for l in range(k)])\n",
        "    B = 0\n",
        "    W = 0\n",
        "\n",
        "    for l in range(k):\n",
        "        cluster_l_points = X[labels == l]\n",
        "        # Calculate within-cluster distances\n",
        "        W += np.sum([np.linalg.norm(x_i - x_j) for i, x_i in enumerate(cluster_l_points) for x_j in cluster_l_points[i+1:]])\n",
        "\n",
        "        for m in range(l + 1, k):\n",
        "            cluster_m_points = X[labels == m]\n",
        "            # Calculate between-cluster distances\n",
        "            B += np.sum([np.linalg.norm(x_i - x_j) for x_i in cluster_l_points for x_j in cluster_m_points])\n",
        "\n",
        "    V9 = (B / W) * ((N**2 - np.sum(N_l**2)) / (np.sum(N_l**2) - N))\n",
        "    return V9\n",
        "\n",
        "# Example usage:\n",
        "V9 = mcclain_rao(X, cluster_labels)\n",
        "print(f\"The McClain-Rao criterion value is: {V9}\")"
      ],
      "metadata": {
        "colab": {
          "base_uri": "https://localhost:8080/"
        },
        "id": "9GnXhOEAJBPb",
        "outputId": "d6644712-cff0-4f4e-d9d2-e3b87291907a"
      },
      "execution_count": null,
      "outputs": [
        {
          "output_type": "stream",
          "name": "stdout",
          "text": [
            "The McClain-Rao criterion value is: 18.74120996447762\n"
          ]
        }
      ]
    },
    {
      "cell_type": "code",
      "source": [],
      "metadata": {
        "id": "K-CX0L_GJGER"
      },
      "execution_count": null,
      "outputs": []
    }
  ]
}