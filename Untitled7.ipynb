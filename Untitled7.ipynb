{
  "nbformat": 4,
  "nbformat_minor": 0,
  "metadata": {
    "colab": {
      "provenance": [],
      "include_colab_link": true
    },
    "kernelspec": {
      "name": "python3",
      "display_name": "Python 3"
    },
    "language_info": {
      "name": "python"
    }
  },
  "cells": [
    {
      "cell_type": "markdown",
      "metadata": {
        "id": "view-in-github",
        "colab_type": "text"
      },
      "source": [
        "<a href=\"https://colab.research.google.com/github/TrungDat2112/GR1/blob/main/Untitled7.ipynb\" target=\"_parent\"><img src=\"https://colab.research.google.com/assets/colab-badge.svg\" alt=\"Open In Colab\"/></a>"
      ]
    },
    {
      "cell_type": "code",
      "execution_count": 157,
      "metadata": {
        "id": "dSpk23sX2UZ0"
      },
      "outputs": [],
      "source": [
        "import numpy as np\n",
        "from sklearn.metrics import calinski_harabasz_score\n",
        "from sklearn.metrics import davies_bouldin_score\n",
        "from scipy.spatial.distance import pdist, squareform\n",
        "from sklearn.metrics import silhouette_samples, silhouette_score\n",
        "from sklearn.metrics import pairwise_distances\n",
        "from itertools import combinations\n",
        "from sklearn.metrics import adjusted_rand_score\n",
        "from sklearn.datasets import make_blobs"
      ]
    },
    {
      "cell_type": "code",
      "source": [
        "def initialize_membership_matrix(n_samples, n_clusters):\n",
        "    U = np.random.dirichlet(np.ones(n_clusters), size=n_samples)\n",
        "    return U"
      ],
      "metadata": {
        "id": "3mEMLmOp9u0V"
      },
      "execution_count": 158,
      "outputs": []
    },
    {
      "cell_type": "code",
      "source": [
        "def calculate_cluster_centers(X, U, m):\n",
        "    um = U ** m\n",
        "    centers = um.T @ X / um.sum(axis=0)[:, None]\n",
        "    return centers"
      ],
      "metadata": {
        "id": "gr27RpFJ-9La"
      },
      "execution_count": 159,
      "outputs": []
    },
    {
      "cell_type": "code",
      "source": [
        "def update_membership_matrix(X, centers, m, A=None):\n",
        "    n_samples = X.shape[0]\n",
        "    n_clusters = centers.shape[0]\n",
        "    p = 2 / (m - 1)\n",
        "    distances = np.zeros((n_samples, n_clusters))\n",
        "\n",
        "    for i in range(n_clusters):\n",
        "        distances[:, i] = np.linalg.norm(X - centers[i], axis=1, ord=2)\n",
        "    U = np.zeros((n_samples, n_clusters))\n",
        "    for i in range(n_clusters):\n",
        "        for j in range(n_samples):\n",
        "            denominator = np.sum((distances[j, i] / distances[j, :]) ** p)\n",
        "            U[j, i] = 1 / denominator\n",
        "\n",
        "    return U"
      ],
      "metadata": {
        "id": "i5np7dJr97Gn"
      },
      "execution_count": 160,
      "outputs": []
    },
    {
      "cell_type": "code",
      "source": [
        "def calculate_jm(X, U, centers, m=2.5):\n",
        "    n_samples, n_features = X.shape\n",
        "    n_clusters = centers.shape[0]\n",
        "    Jm = 0\n",
        "    for i in range(n_clusters):\n",
        "        diff = X - centers[i]\n",
        "        dist_squared = np.sum(diff ** 2, axis=1)\n",
        "        Jm += np.sum((U[:, i] ** m) * dist_squared)\n",
        "    return Jm\n"
      ],
      "metadata": {
        "id": "TKJ_ZlZi-ekB"
      },
      "execution_count": 161,
      "outputs": []
    },
    {
      "cell_type": "code",
      "source": [
        "def calculate_fc(U):\n",
        "    Fc = np.sum(U ** 2) / U.shape[0]\n",
        "    return Fc\n"
      ],
      "metadata": {
        "id": "W9CFEKzk-jnM"
      },
      "execution_count": 162,
      "outputs": []
    },
    {
      "cell_type": "code",
      "source": [
        "def calculate_hc(U):\n",
        "    with np.errstate(divide='ignore', invalid='ignore'):\n",
        "        Hc = -np.sum(U * np.log(U)) / U.shape[0]\n",
        "        Hc = np.nan_to_num(Hc)  # Replace nan with 0 and inf with large finite numbers\n",
        "    return Hc\n"
      ],
      "metadata": {
        "id": "6XKztMUa-mAA"
      },
      "execution_count": 163,
      "outputs": []
    },
    {
      "cell_type": "code",
      "source": [
        "def fcm(X, n_clusters=5, m=2.5, epsilon=0.01, max_iter=100, A=None):\n",
        "    n_samples = X.shape[0]\n",
        "    U = initialize_membership_matrix(n_samples, n_clusters)\n",
        "    for iteration in range(max_iter):\n",
        "        U_old = U.copy()\n",
        "        centers = calculate_cluster_centers(X, U, m)\n",
        "        U = update_membership_matrix(X, centers, m)\n",
        "        if np.linalg.norm(U - U_old) < epsilon:\n",
        "            break\n",
        "\n",
        "    return U, centers"
      ],
      "metadata": {
        "id": "1dRRlT8D-ATE"
      },
      "execution_count": 164,
      "outputs": []
    },
    {
      "cell_type": "code",
      "source": [
        "X, _ = make_blobs(n_samples=30, centers=5, cluster_std=0.60, random_state=0)\n",
        "U, centers = fcm(X)\n",
        "cluster_labels = np.argmax(U, axis=1)\n",
        "m = 2.5\n",
        "Jm = calculate_jm(X, U, centers, m)\n",
        "Fc = calculate_fc(U)\n",
        "Hc = calculate_hc(U)\n",
        "One_minus_Fc = 1 - Fc\n",
        "print(\"Cluster centers:\\n\", centers)\n",
        "print(\"Assigned clusters for the first 10 samples:\\n\", cluster_labels[:10])\n",
        "print(\"Jm:\\n\", Jm)\n",
        "print(\"Fc:\\n\", Fc)\n",
        "print(\"Hc:\\n\", Hc)\n",
        "print(\"1 -Fc:\\n\", One_minus_Fc)"
      ],
      "metadata": {
        "colab": {
          "base_uri": "https://localhost:8080/"
        },
        "id": "k4LOm-c3-DT2",
        "outputId": "be1b79d1-1534-4a52-d5b3-06f4bc9c2675"
      },
      "execution_count": 165,
      "outputs": [
        {
          "output_type": "stream",
          "name": "stdout",
          "text": [
            "Cluster centers:\n",
            " [[ 8.83211163 -2.55088596]\n",
            " [ 2.38340514  0.6679828 ]\n",
            " [-1.78833338  2.87017682]\n",
            " [ 1.2881575   4.36678133]\n",
            " [-1.66664855  7.90706255]]\n",
            "Assigned clusters for the first 10 samples:\n",
            " [1 0 3 0 4 2 1 2 4 0]\n",
            "Jm:\n",
            " 9.365494593397129\n",
            "Fc:\n",
            " 0.7272730044934372\n",
            "Hc:\n",
            " 0.5923517009751208\n",
            "1 -Fc:\n",
            " 0.27272699550656276\n"
          ]
        }
      ]
    },
    {
      "cell_type": "code",
      "source": [
        "vrc_score = calinski_harabasz_score(X, cluster_labels)\n",
        "print(f\"The Calinski-Harabasz score is: {vrc_score}\")"
      ],
      "metadata": {
        "colab": {
          "base_uri": "https://localhost:8080/"
        },
        "id": "ErHe7GcS_xTg",
        "outputId": "522896f3-22ed-4009-d7c8-794031ca6bf3"
      },
      "execution_count": 156,
      "outputs": [
        {
          "output_type": "stream",
          "name": "stdout",
          "text": [
            "The Calinski-Harabasz score is: 297.3044883663017\n"
          ]
        }
      ]
    },
    {
      "cell_type": "code",
      "source": [
        "db_score = davies_bouldin_score(X, cluster_labels)\n",
        "print(f\"The Davies-Bouldin score is: {db_score}\")"
      ],
      "metadata": {
        "colab": {
          "base_uri": "https://localhost:8080/"
        },
        "id": "M4nuUbRiAbBc",
        "outputId": "8ad7315d-912e-408e-a998-1b459a5679cb"
      },
      "execution_count": 128,
      "outputs": [
        {
          "output_type": "stream",
          "name": "stdout",
          "text": [
            "The Davies-Bouldin score is: 0.3529773117975497\n"
          ]
        }
      ]
    },
    {
      "cell_type": "code",
      "source": [
        "def dunn_index(X, labels):\n",
        "    # Calculate pairwise distances between points\n",
        "    distances = squareform(pdist(X, 'euclidean'))\n",
        "    n_clusters = len(np.unique(labels))\n",
        "\n",
        "    # Initialize diameters to zero\n",
        "    intra_cluster_distances = np.zeros(n_clusters)\n",
        "\n",
        "    # Initialize inter-cluster distances to a large number\n",
        "    inter_cluster_distances = np.full((n_clusters, n_clusters), np.inf)\n",
        "\n",
        "    # Calculate intra-cluster distances (diameters)\n",
        "    for i in range(n_clusters):\n",
        "        cluster_i = X[labels == i]\n",
        "        if cluster_i.size:\n",
        "            intra_cluster_distances[i] = np.max(pdist(cluster_i, 'euclidean'))\n",
        "\n",
        "    # Calculate inter-cluster distances\n",
        "    for i in range(n_clusters):\n",
        "        for j in range(i + 1, n_clusters):\n",
        "            # Filter distances between different clusters\n",
        "            inter_distances = distances[np.ix_(labels == i, labels == j)]\n",
        "            if inter_distances.size:\n",
        "                inter_cluster_distances[i, j] = np.min(inter_distances)\n",
        "\n",
        "    # Calculate Dunn's index\n",
        "    min_inter = np.min(inter_cluster_distances[inter_cluster_distances != np.inf])\n",
        "    max_intra = np.max(intra_cluster_distances)\n",
        "    dunn_index = min_inter / max_intra if max_intra > 0 else 0\n",
        "\n",
        "    return dunn_index\n",
        "\n",
        "# Usage\n",
        "dn_index = dunn_index(X, cluster_labels)\n",
        "print(f\"Dunn's index is: {dn_index}\")"
      ],
      "metadata": {
        "colab": {
          "base_uri": "https://localhost:8080/"
        },
        "id": "fGEylWD6AghT",
        "outputId": "117301eb-3b47-4261-e52f-2b356e9d4bb6"
      },
      "execution_count": 129,
      "outputs": [
        {
          "output_type": "stream",
          "name": "stdout",
          "text": [
            "Dunn's index is: 0.42790991259982186\n"
          ]
        }
      ]
    },
    {
      "cell_type": "code",
      "source": [
        "silhouette_vals = silhouette_samples(X, cluster_labels)\n",
        "print(f\"Silhouette values for each sample: {silhouette_vals}\")\n",
        "\n",
        "# The overall average silhouette score\n",
        "avg_silhouette = silhouette_score(X, cluster_labels)\n",
        "print(f\"Average silhouette score: {avg_silhouette}\")"
      ],
      "metadata": {
        "colab": {
          "base_uri": "https://localhost:8080/"
        },
        "id": "YIchPom3Asdp",
        "outputId": "db239cda-af1e-41ce-9c07-2f390926fcaa"
      },
      "execution_count": 130,
      "outputs": [
        {
          "output_type": "stream",
          "name": "stdout",
          "text": [
            "Silhouette values for each sample: [0.68834738 0.91808028 0.08359705 0.85679784 0.84564344 0.67249497\n",
            " 0.51500069 0.75760511 0.87253919 0.86424533 0.83457593 0.2637444\n",
            " 0.73915995 0.93329142 0.68306794 0.89837283 0.75802009 0.76888017\n",
            " 0.73103554 0.67262494 0.53811081 0.8207177  0.75787217 0.93337628\n",
            " 0.74052288 0.64192995 0.84320461 0.69615027 0.64776713 0.76096647]\n",
            "Average silhouette score: 0.724591424794032\n"
          ]
        }
      ]
    },
    {
      "cell_type": "code",
      "source": [
        "def alternative_silhouette_samples(X, labels, epsilon=1e-6):\n",
        "    distances = pairwise_distances(X)\n",
        "    unique_labels = np.unique(labels)\n",
        "    silhouette_samples = np.zeros(X.shape[0])\n",
        "\n",
        "    # Compute a_pj and b_pj for each sample\n",
        "    for i in range(X.shape[0]):\n",
        "        # Distances from the i-th sample to all other points in the same cluster\n",
        "        same_cluster = (labels == labels[i])\n",
        "        a_pj = np.mean(distances[i, same_cluster])\n",
        "\n",
        "        # Find the smallest mean distance to all points in any other cluster\n",
        "        min_distance = np.inf\n",
        "        for label in unique_labels:\n",
        "            if label != labels[i]:\n",
        "                other_cluster = (labels == label)\n",
        "                distance_to_other_cluster = np.mean(distances[i, other_cluster])\n",
        "                if distance_to_other_cluster < min_distance:\n",
        "                    min_distance = distance_to_other_cluster\n",
        "        b_pj = min_distance\n",
        "\n",
        "        # Calculate the alternative silhouette value for sample i\n",
        "        silhouette_samples[i] = (b_pj - a_pj) / (a_pj + epsilon)\n",
        "\n",
        "    return silhouette_samples\n",
        "\n",
        "# Compute the alternative silhouette samples\n",
        "epsilon = 1e-6\n",
        "alt_silhouette_vals = alternative_silhouette_samples(X, cluster_labels, epsilon)\n",
        "avg_alt_silhouette = np.mean(alt_silhouette_vals)\n",
        "\n",
        "print(f\"Alternative silhouette values for each sample: {alt_silhouette_vals}\")\n",
        "print(f\"Average alternative silhouette score: {avg_alt_silhouette}\")"
      ],
      "metadata": {
        "colab": {
          "base_uri": "https://localhost:8080/"
        },
        "id": "Ys2kGruDAxQM",
        "outputId": "fc841711-ea9a-4f5d-99f6-09bcf0a2c3af"
      },
      "execution_count": 131,
      "outputs": [
        {
          "output_type": "stream",
          "name": "stdout",
          "text": [
            "Alternative silhouette values for each sample: [ 2.8504388  13.64845919  0.30946744  7.37975236  6.77419712  2.66406345\n",
            "  1.47422921  3.95059367  8.41464132  7.83946591  6.25407291  0.62986828\n",
            "  3.60051532 16.98864727  2.78629757 10.80784882  3.95908362  4.19210685\n",
            "  3.46155184  2.6655178   1.59802459  5.69334622  3.95605398 17.01156009\n",
            "  3.62468097  2.35129786  6.65327449  2.94931734  2.40683445  4.02021048]\n",
            "Average alternative silhouette score: 5.363847307592704\n"
          ]
        }
      ]
    },
    {
      "cell_type": "code",
      "source": [
        "def calculate_centroids(X, labels, k):\n",
        "    centroids = np.array([X[labels == i].mean(axis=0) for i in range(k)])\n",
        "    return centroids\n",
        "centroids = calculate_centroids(X, cluster_labels, k=np.unique(cluster_labels).size)\n",
        "def alternative_simplified_silhouette_samples(X, labels, centroids, epsilon=1e-5):\n",
        "    distances_to_centroids = pairwise_distances(X, centroids)\n",
        "    intra_distances = distances_to_centroids[np.arange(len(labels)), labels]\n",
        "\n",
        "    # Avoid the use of intra-cluster distances in finding the nearest other cluster\n",
        "    inter_distances = np.where(\n",
        "        (np.arange(len(centroids)) == labels[:, None]),\n",
        "        np.inf,\n",
        "        distances_to_centroids\n",
        "    )\n",
        "    nearest_other_distance = np.min(inter_distances, axis=1)\n",
        "\n",
        "    silhouette_values = (nearest_other_distance - intra_distances) / (intra_distances + epsilon)\n",
        "\n",
        "    return silhouette_values\n",
        "\n",
        "# Computing the ASSWC for each sample\n",
        "asswc_values = alternative_simplified_silhouette_samples(X, cluster_labels, centroids)\n",
        "\n",
        "# Computing the mean ASSWC across all samples for the overall score\n",
        "mean_asswc = np.mean(asswc_values)\n",
        "\n",
        "print(f\"Alternative Simplified Silhouette values for each sample: {asswc_values}\")\n",
        "print(f\"Mean Alternative Simplified Silhouette Score: {mean_asswc}\")\n"
      ],
      "metadata": {
        "colab": {
          "base_uri": "https://localhost:8080/"
        },
        "id": "xDhR-QqxBF87",
        "outputId": "34d3bc60-c2d8-45a6-af44-8681ab758a46"
      },
      "execution_count": 132,
      "outputs": [
        {
          "output_type": "stream",
          "name": "stdout",
          "text": [
            "Alternative Simplified Silhouette values for each sample: [  3.38560488  23.60682971   0.29134298   7.73812258   8.24585063\n",
            "   2.87444482   1.64774067   7.93905955  20.3614393    8.33334176\n",
            "   7.74340609   0.69042212  42.77157594 102.77209237   3.07176561\n",
            "  12.77342097   9.95134828  17.79103308   3.85033326   3.95315211\n",
            "   1.78866398   7.02732069  14.96148146 148.40177643   8.63660258\n",
            "   2.56101441   8.43833172   5.18510823   3.53816569   7.67909649]\n",
            "Mean Alternative Simplified Silhouette Score: 16.60032961272615\n"
          ]
        }
      ]
    },
    {
      "cell_type": "code",
      "source": [
        "from scipy.spatial.distance import cdist\n",
        "def pbm_index(X, labels):\n",
        "    k = len(np.unique(labels))\n",
        "    n_samples = X.shape[0]\n",
        "\n",
        "    # Compute the grand mean of the data\n",
        "    grand_mean = np.mean(X, axis=0)\n",
        "\n",
        "    # Compute E1\n",
        "    E1 = np.sum(np.linalg.norm(X - grand_mean, axis=1))\n",
        "\n",
        "    # Compute Ek\n",
        "    centroids = calculate_centroids(X, labels, k)\n",
        "    Ek = sum(np.linalg.norm(X[labels == i] - centroids[i], axis=1).sum() for i in range(k))\n",
        "\n",
        "    # Compute Dk\n",
        "    Dk = np.max(cdist(centroids, centroids, 'euclidean'))\n",
        "\n",
        "    # Compute PBM index\n",
        "    PBM = ((1/k) * (E1/Ek) * (1/Dk))**2\n",
        "\n",
        "    return PBM\n",
        "\n",
        "# Example usage:\n",
        "pbm_score = pbm_index(X, cluster_labels)\n",
        "print(f\"The PBM index is: {pbm_score}\")"
      ],
      "metadata": {
        "colab": {
          "base_uri": "https://localhost:8080/"
        },
        "id": "K6QDW2jfBT4v",
        "outputId": "602b28ad-7251-4832-bae2-7d9a4cf91123"
      },
      "execution_count": 133,
      "outputs": [
        {
          "output_type": "stream",
          "name": "stdout",
          "text": [
            "The PBM index is: 0.009401166917887541\n"
          ]
        }
      ]
    },
    {
      "cell_type": "code",
      "source": [
        "def point_biserial(X, labels):\n",
        "    distances = np.array([np.linalg.norm(X[i] - X[j]) for i, j in combinations(range(len(X)), 2)])\n",
        "    t = len(distances)\n",
        "    s_d = np.std(distances)\n",
        "\n",
        "    intra_distances = [dist for (i, j), dist in zip(combinations(range(len(X)), 2), distances)\n",
        "                       if labels[i] == labels[j]]\n",
        "    inter_distances = [dist for (i, j), dist in zip(combinations(range(len(X)), 2), distances)\n",
        "                       if labels[i] != labels[j]]\n",
        "\n",
        "    d_u = np.mean(intra_distances)\n",
        "    d_b = np.mean(inter_distances)\n",
        "    w_u = len(intra_distances)\n",
        "    b_d = len(inter_distances)\n",
        "\n",
        "    PB = ((d_b - d_u) / s_d) * (w_u * b_d / t**2)\n",
        "\n",
        "    return PB\n",
        "\n",
        "# Example usage:\n",
        "pb_value = point_biserial(X, cluster_labels)\n",
        "print(f\"The Point-Biserial (PB) value is: {pb_value}\")"
      ],
      "metadata": {
        "colab": {
          "base_uri": "https://localhost:8080/"
        },
        "id": "bonaLhpADUUR",
        "outputId": "cff69278-0662-425e-fb42-7218395abedf"
      },
      "execution_count": 134,
      "outputs": [
        {
          "output_type": "stream",
          "name": "stdout",
          "text": [
            "The Point-Biserial (PB) value is: 0.21881317122964863\n"
          ]
        }
      ]
    },
    {
      "cell_type": "code",
      "source": [
        "def calculate_within_cluster_cov_matrix(X, labels):\n",
        "    k = len(np.unique(labels))\n",
        "    n_features = X.shape[1]\n",
        "    overall_mean = np.mean(X, axis=0)\n",
        "\n",
        "    # Compute the within-cluster covariance matrix W\n",
        "    W = np.zeros((n_features, n_features))\n",
        "    for label in np.unique(labels):\n",
        "        cluster_points = X[labels == label]\n",
        "        cluster_mean = np.mean(cluster_points, axis=0)\n",
        "        W += np.cov(cluster_points, rowvar=False) * (cluster_points.shape[0] - 1)\n",
        "\n",
        "    W /= X.shape[0] - k\n",
        "    return W"
      ],
      "metadata": {
        "id": "ivES9QfmGU8V"
      },
      "execution_count": 135,
      "outputs": []
    },
    {
      "cell_type": "code",
      "source": [
        "def cvk_criterion(X, labels):\n",
        "    k = len(np.unique(labels))\n",
        "    n = X.shape[1]\n",
        "    grand_mean = np.mean(X, axis=0)\n",
        "    cvk = 0\n",
        "\n",
        "    for q in range(n):\n",
        "        # Calculate SSTq for attribute q\n",
        "        SSTq = np.sum((X[:, q] - grand_mean[q]) ** 2)\n",
        "\n",
        "        # Calculate SSWq for attribute q\n",
        "        SSWq = sum(np.sum((X[labels == l, q] - np.mean(X[labels == l, q])) ** 2) for l in range(k))\n",
        "\n",
        "        # Calculate SSBq for attribute q\n",
        "        SSBq = SSTq - SSWq\n",
        "\n",
        "        # Add the ratio for attribute q to cvk\n",
        "        cvk += SSBq / SSTq\n",
        "\n",
        "    return cvk / np.sqrt(n)\n",
        "\n",
        "# Example usage\n",
        "cvk_score = cvk_criterion(X, cluster_labels)\n",
        "print(f\"The C/Vk criterion score is: {cvk_score}\")"
      ],
      "metadata": {
        "colab": {
          "base_uri": "https://localhost:8080/"
        },
        "id": "lMi0HvHcDb0A",
        "outputId": "b73172f7-f2d3-4c32-a1f5-bb14dc70120f"
      },
      "execution_count": 136,
      "outputs": [
        {
          "output_type": "stream",
          "name": "stdout",
          "text": [
            "The C/Vk criterion score is: 1.3849010769543622\n"
          ]
        }
      ]
    },
    {
      "cell_type": "code",
      "source": [
        "W = calculate_within_cluster_cov_matrix(X, cluster_labels)\n",
        "V1 = np.trace(W)\n",
        "\n",
        "print(f\"The trace of the within-group covariance matrix W is: {V1}\")"
      ],
      "metadata": {
        "colab": {
          "base_uri": "https://localhost:8080/"
        },
        "id": "U8lphuTuEJ5Z",
        "outputId": "40b9d2ac-3ce7-4d4f-ed3a-bcfe41f003b1"
      },
      "execution_count": 137,
      "outputs": [
        {
          "output_type": "stream",
          "name": "stdout",
          "text": [
            "The trace of the within-group covariance matrix W is: 0.6932993593458188\n"
          ]
        }
      ]
    },
    {
      "cell_type": "code",
      "source": [
        "def calculate_within_cluster_cov(X, labels):\n",
        "    k = len(np.unique(labels))\n",
        "    cluster_covariances = []\n",
        "    for l in range(k):\n",
        "        cluster_points = X[labels == l]\n",
        "        cluster_mean = np.mean(cluster_points, axis=0)\n",
        "        covariance = np.cov(cluster_points, rowvar=False, bias=True)  # Using bias=True for sample covariance\n",
        "        cluster_covariances.append(covariance)\n",
        "    return cluster_covariances\n",
        "\n",
        "def trace_CovW(X, labels):\n",
        "    cluster_covariances = calculate_within_cluster_cov(X, labels)\n",
        "    pooled_covariance = np.mean(cluster_covariances, axis=0)\n",
        "    trace_pooled_covariance = np.trace(pooled_covariance)\n",
        "    return trace_pooled_covariance\n",
        "\n",
        "# Example usage\n",
        "V2 = trace_CovW(X, cluster_labels)\n",
        "print(f\"The trace of the pooled covariance matrix (Trace(CovW)) is: {V2}\")"
      ],
      "metadata": {
        "colab": {
          "base_uri": "https://localhost:8080/"
        },
        "id": "Xn4OH4AiEPZA",
        "outputId": "d909bfa5-abab-4a83-9933-5b154dcecd83"
      },
      "execution_count": 138,
      "outputs": [
        {
          "output_type": "stream",
          "name": "stdout",
          "text": [
            "The trace of the pooled covariance matrix (Trace(CovW)) is: 0.5777494661215155\n"
          ]
        }
      ]
    },
    {
      "cell_type": "code",
      "source": [
        "def between_cluster_dispersion_matrix(X, labels):\n",
        "    k = len(np.unique(labels))\n",
        "    n_features = X.shape[1]\n",
        "    overall_mean = np.mean(X, axis=0)\n",
        "    B = np.zeros((n_features, n_features))\n",
        "    for label in np.unique(labels):\n",
        "        cluster_points = X[labels == label]\n",
        "        cluster_size = cluster_points.shape[0]\n",
        "        cluster_mean = np.mean(cluster_points, axis=0)\n",
        "        mean_diff = cluster_mean - overall_mean\n",
        "        B += cluster_size * np.outer(mean_diff, mean_diff)\n",
        "\n",
        "    B /= k - 1\n",
        "    return B"
      ],
      "metadata": {
        "id": "e0FATNhJHr3h"
      },
      "execution_count": 139,
      "outputs": []
    },
    {
      "cell_type": "code",
      "source": [
        "def calculate_w_inv_b(X, labels):\n",
        "  W = calculate_within_cluster_cov_matrix(X, cluster_labels)\n",
        "  B = between_cluster_dispersion_matrix(X, cluster_labels)\n",
        "  W_inv = np.linalg.inv(W)\n",
        "  V3 = np.trace(np.dot(W_inv, B))\n",
        "\n",
        "  return V3\n",
        "\n",
        "# Example usage:\n",
        "V3 = calculate_w_inv_b(X, cluster_labels)\n",
        "print(f\"The Trace(W^(-1)B) criterion value is: {V3}\")"
      ],
      "metadata": {
        "colab": {
          "base_uri": "https://localhost:8080/"
        },
        "id": "hIkH0jTRIHkB",
        "outputId": "40993553-1b2b-4b04-c7d1-75f31b303cac"
      },
      "execution_count": 140,
      "outputs": [
        {
          "output_type": "stream",
          "name": "stdout",
          "text": [
            "The Trace(W^(-1)B) criterion value is: 584.0955822173014\n"
          ]
        }
      ]
    },
    {
      "cell_type": "code",
      "source": [
        "def calculate_t_w_determinants(X, labels):\n",
        "    k = len(np.unique(labels))\n",
        "    n_features = X.shape[1]\n",
        "    B = between_cluster_dispersion_matrix(X, cluster_labels)\n",
        "    T = W + B\n",
        "\n",
        "    # Calculate determinants\n",
        "    determinant_W = np.linalg.det(W)\n",
        "    determinant_T = np.linalg.det(T)\n",
        "\n",
        "    return determinant_T, determinant_W\n",
        "\n",
        "def determinant_ratio_criterion(X, labels):\n",
        "    determinant_T, determinant_W = calculate_t_w_determinants(X, labels)\n",
        "    V4 = abs(determinant_T) / abs(determinant_W)\n",
        "    return V4\n",
        "\n",
        "# Example usage:\n",
        "V4 = determinant_ratio_criterion(X, cluster_labels)\n",
        "print(f\"The |T|/|W| criterion value is: {V4}\")"
      ],
      "metadata": {
        "colab": {
          "base_uri": "https://localhost:8080/"
        },
        "id": "MTwvxhbJIfWr",
        "outputId": "1668fc98-0be3-486a-b381-9e58ed84bec4"
      },
      "execution_count": 141,
      "outputs": [
        {
          "output_type": "stream",
          "name": "stdout",
          "text": [
            "The |T|/|W| criterion value is: 23267.08021971187\n"
          ]
        }
      ]
    },
    {
      "cell_type": "code",
      "source": [
        "def nlog_determinant_ratio_criterion(X, labels):\n",
        "    N = X.shape[0]\n",
        "    determinant_T, determinant_W = calculate_t_w_determinants(X, labels)\n",
        "    ratio = abs(determinant_T) / abs(determinant_W)\n",
        "    V5 = N * np.log10(ratio)\n",
        "    return V5\n",
        "\n",
        "# Example usage:\n",
        "V5 = nlog_determinant_ratio_criterion(X, cluster_labels)\n",
        "print(f\"The Nlog(|T|/|W|) criterion value is: {V5}\")\n"
      ],
      "metadata": {
        "colab": {
          "base_uri": "https://localhost:8080/"
        },
        "id": "SvHuHX71Iuxq",
        "outputId": "9a6fc332-3f9c-4ee0-c2c5-33c1b0320ff0"
      },
      "execution_count": 142,
      "outputs": [
        {
          "output_type": "stream",
          "name": "stdout",
          "text": [
            "The Nlog(|T|/|W|) criterion value is: 131.0022566158849\n"
          ]
        }
      ]
    },
    {
      "cell_type": "code",
      "source": [
        "def k_squared_W(X, labels):\n",
        "    k = len(np.unique(labels))  # Number of clusters\n",
        "    W = calculate_within_cluster_cov_matrix(X, labels)  # Assuming a function that calculates W\n",
        "    determinant_W = np.linalg.det(W)\n",
        "    V6 = k**2 * abs(determinant_W)\n",
        "    return V6\n",
        "\n",
        "# Example usage:\n",
        "V6 = k_squared_W(X, cluster_labels)\n",
        "print(f\"The k^2|W| criterion value is: {V6}\")"
      ],
      "metadata": {
        "colab": {
          "base_uri": "https://localhost:8080/"
        },
        "id": "Gk0RF36DIz5-",
        "outputId": "fd63a756-f45a-4807-8e6e-a39a41d9a423"
      },
      "execution_count": 143,
      "outputs": [
        {
          "output_type": "stream",
          "name": "stdout",
          "text": [
            "The k^2|W| criterion value is: 3.0009125073697946\n"
          ]
        }
      ]
    },
    {
      "cell_type": "code",
      "source": [
        "def log_ssb_ssw(X, labels):\n",
        "    K = len(np.unique(labels))\n",
        "    centroids = [X[labels == k].mean(axis=0) for k in range(K)]\n",
        "    SSW = sum(np.sum((X[labels == k] - centroids[k])**2) for k in range(K))\n",
        "\n",
        "    SSB = sum(\n",
        "        1/(len(X[labels == k]) + len(X[labels == m])) * np.linalg.norm(centroids[k] - centroids[m])**2\n",
        "        for k in range(K-1) for m in range(k+1, K)\n",
        "    )\n",
        "\n",
        "    return np.log10(SSB / SSW) if SSW != 0 else float('inf')\n",
        "\n",
        "# Example usage:\n",
        "V7 = log_ssb_ssw(X, cluster_labels)\n",
        "print(f\"The log(SSB/SSW) criterion value is: {V7}\")"
      ],
      "metadata": {
        "colab": {
          "base_uri": "https://localhost:8080/"
        },
        "id": "WfjOWbELI4hr",
        "outputId": "f5692534-762b-4d78-b2c5-58d8cee2f404"
      },
      "execution_count": 144,
      "outputs": [
        {
          "output_type": "stream",
          "name": "stdout",
          "text": [
            "The log(SSB/SSW) criterion value is: 0.5189589563011111\n"
          ]
        }
      ]
    },
    {
      "cell_type": "code",
      "source": [
        "def ball_hall(X, labels):\n",
        "    k = len(np.unique(labels))\n",
        "    N = X.shape[0]\n",
        "    total_sum_of_distances = 0\n",
        "\n",
        "    for l in range(k):\n",
        "        cluster_points = X[labels == l]\n",
        "        if cluster_points.size > 0:\n",
        "            centroid = np.mean(cluster_points, axis=0)\n",
        "            sum_of_distances = np.sum(np.linalg.norm(cluster_points - centroid, axis=1))\n",
        "            total_sum_of_distances += sum_of_distances\n",
        "\n",
        "    V8 = total_sum_of_distances / N\n",
        "    return V8\n",
        "\n",
        "# Example usage:\n",
        "V8 = ball_hall(X, cluster_labels)\n",
        "print(f\"The Ball-Hall criterion value is: {V8}\")"
      ],
      "metadata": {
        "colab": {
          "base_uri": "https://localhost:8080/"
        },
        "id": "BBLTfUqRI9Gi",
        "outputId": "82e185bc-92c4-4af5-f0d2-651717f61d03"
      },
      "execution_count": 145,
      "outputs": [
        {
          "output_type": "stream",
          "name": "stdout",
          "text": [
            "The Ball-Hall criterion value is: 0.639348822814808\n"
          ]
        }
      ]
    },
    {
      "cell_type": "code",
      "source": [
        "def mcclain_rao(X, labels):\n",
        "    k = len(np.unique(labels))\n",
        "    N = len(X)\n",
        "    N_l = np.array([np.sum(labels == l) for l in range(k)])\n",
        "    B = 0\n",
        "    W = 0\n",
        "\n",
        "    for l in range(k):\n",
        "        cluster_l_points = X[labels == l]\n",
        "        # Calculate within-cluster distances\n",
        "        W += np.sum([np.linalg.norm(x_i - x_j) for i, x_i in enumerate(cluster_l_points) for x_j in cluster_l_points[i+1:]])\n",
        "\n",
        "        for m in range(l + 1, k):\n",
        "            cluster_m_points = X[labels == m]\n",
        "            # Calculate between-cluster distances\n",
        "            B += np.sum([np.linalg.norm(x_i - x_j) for x_i in cluster_l_points for x_j in cluster_m_points])\n",
        "\n",
        "    V9 = (B / W) * ((N**2 - np.sum(N_l**2)) / (np.sum(N_l**2) - N))\n",
        "    return V9\n",
        "\n",
        "# Example usage:\n",
        "V9 = mcclain_rao(X, cluster_labels)\n",
        "print(f\"The McClain-Rao criterion value is: {V9}\")"
      ],
      "metadata": {
        "colab": {
          "base_uri": "https://localhost:8080/"
        },
        "id": "9GnXhOEAJBPb",
        "outputId": "7b3e8b77-9e29-45ba-a0b2-b9872d37ece4"
      },
      "execution_count": 146,
      "outputs": [
        {
          "output_type": "stream",
          "name": "stdout",
          "text": [
            "The McClain-Rao criterion value is: 166.5608907010621\n"
          ]
        }
      ]
    },
    {
      "cell_type": "code",
      "source": [],
      "metadata": {
        "id": "K-CX0L_GJGER"
      },
      "execution_count": null,
      "outputs": []
    }
  ]
}